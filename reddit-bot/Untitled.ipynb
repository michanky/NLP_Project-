{
 "cells": [
  {
   "cell_type": "code",
   "execution_count": null,
   "id": "139ec584-24b0-4f29-a0f6-4539b11645c5",
   "metadata": {},
   "outputs": [],
   "source": []
  }
 ],
 "metadata": {
  "kernelspec": {
   "display_name": "Python 3 (ipykernel)",
   "language": "python",
   "name": "python3"
  },
  "language_info": {
   "name": ""
  }
 },
 "nbformat": 4,
 "nbformat_minor": 5
}
